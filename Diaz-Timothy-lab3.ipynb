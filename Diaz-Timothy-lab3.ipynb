{
 "cells": [
  {
   "cell_type": "markdown",
   "metadata": {},
   "source": [
    "191688  \n",
    "Diaz  \n",
    "2 BS ME"
   ]
  },
  {
   "cell_type": "markdown",
   "metadata": {},
   "source": [
    "# Problem 1"
   ]
  },
  {
   "cell_type": "code",
   "execution_count": 2,
   "metadata": {},
   "outputs": [],
   "source": [
    "social_graph = {\n",
    "    \"@bongolpoc\":{\"first_name\":\"Joselito\",\n",
    "                  \"last_name\":\"Olpoc\",\n",
    "                  \"following\":[\n",
    "                  ]\n",
    "    },\n",
    "    \"@joaquin\":  {\"first_name\":\"Joaquin\",\n",
    "                  \"last_name\":\"Gonzales\",\n",
    "                  \"following\":[\n",
    "                      \"@chums\",\"@jobenilagan\"\n",
    "                  ]\n",
    "    },\n",
    "    \"@chums\" : {\"first_name\":\"Matthew\",\n",
    "                \"last_name\":\"Uy\",\n",
    "                \"following\":[\n",
    "                    \"@bongolpoc\",\"@miketan\",\"@rudyang\",\"@joeilagan\"\n",
    "                ]\n",
    "    },\n",
    "    \"@jobenilagan\":{\"first_name\":\"Joben\",\n",
    "                   \"last_name\":\"Ilagan\",\n",
    "                   \"following\":[\n",
    "                    \"@eeebeee\",\"@joeilagan\",\"@chums\",\"@joaquin\"\n",
    "                   ]\n",
    "    },\n",
    "    \"@joeilagan\":{\"first_name\":\"Joe\",\n",
    "                  \"last_name\":\"Ilagan\",\n",
    "                  \"following\":[\n",
    "                    \"@eeebeee\",\"@jobenilagan\",\"@chums\"\n",
    "                  ]\n",
    "    },\n",
    "    \"@eeebeee\":  {\"first_name\":\"Elizabeth\",\n",
    "                  \"last_name\":\"Ilagan\",\n",
    "                  \"following\":[\n",
    "                    \"@jobenilagan\",\"@joeilagan\"\n",
    "                  ]\n",
    "    },\n",
    "}"
   ]
  },
  {
   "cell_type": "code",
   "execution_count": 3,
   "metadata": {},
   "outputs": [],
   "source": [
    "def relationship_status(from_member,to_member):\n",
    "    if to_member in social_graph[from_member][\"following\"] and from_member in social_graph[to_member][\"following\"]:\n",
    "        return 'friends'\n",
    "    elif to_member in social_graph[from_member][\"following\"]:\n",
    "        return 'follower'\n",
    "    elif from_member in social_graph[to_member][\"following\"]:\n",
    "        return 'followed by'\n",
    "    else:\n",
    "        return None"
   ]
  },
  {
   "cell_type": "code",
   "execution_count": 9,
   "metadata": {},
   "outputs": [
    {
     "data": {
      "text/plain": [
       "'friends'"
      ]
     },
     "execution_count": 9,
     "metadata": {},
     "output_type": "execute_result"
    }
   ],
   "source": [
    "relationship_status('@chums','@joeilagan')"
   ]
  },
  {
   "cell_type": "markdown",
   "metadata": {},
   "source": [
    "# Problem 2"
   ]
  },
  {
   "cell_type": "code",
   "execution_count": 10,
   "metadata": {},
   "outputs": [],
   "source": [
    "board1 = [\n",
    "['X','X','O'],\n",
    "['O','X','O'],\n",
    "['O','','X'],\n",
    "]\n",
    "\n",
    "board2 = [\n",
    "['X','X','O'],\n",
    "['O','X','O'],\n",
    "['','O','X'],\n",
    "]\n",
    "\n",
    "board3 = [\n",
    "['O','X','O'],\n",
    "['','O','X'],\n",
    "['X','X','O'],\n",
    "]\n",
    "\n",
    "board4 = [\n",
    "['X','X','X'],\n",
    "['O','X','O'],\n",
    "['O','','O'],\n",
    "]\n",
    "\n",
    "board5 = [\n",
    "['X','X','O'],\n",
    "['O','X','O'],\n",
    "['X','','O'],\n",
    "]\n",
    "\n",
    "board6 = [\n",
    "['X','X','O'],\n",
    "['O','X','O'],\n",
    "['X','',''],\n",
    "]\n",
    "def get_winner(board):\n",
    "    horizontal1=[x for x in board[0]]\n",
    "    horizontal2=[x for x in board[1]]\n",
    "    horizontal3=[x for x in board[2]]\n",
    "    vertical1=[x for x in zip(*board)][0]\n",
    "    vertical2=[x for x in zip(*board)][1]\n",
    "    vertical3=[x for x in zip(*board)][2]\n",
    "    diagonal1=[board[i][i] for i,v in enumerate(board)]\n",
    "    diagonal2=[board[i][2-i] for i,v in enumerate(board)]\n",
    "    list_of_combos=[horizontal1,horizontal2,horizontal3,vertical1,vertical2,vertical3,diagonal1,diagonal2]\n",
    "    for combo in list_of_combos:\n",
    "        if len(set(combo))==1 and len(combo)==3:\n",
    "            winner=combo[0]\n",
    "            print(winner)\n",
    "            \n",
    "            \n",
    "     winner = None\n",
    "\n",
    "     ## guides to your approach:\n",
    "     ## check diagonals\n",
    "\n",
    "     ## - how do you go from left to right?\n",
    "     ## - how do you go from right to left?\n",
    "\n",
    "     ## check rows\n",
    "\n",
    "     ## check columns"
   ]
  },
  {
   "cell_type": "code",
   "execution_count": 54,
   "metadata": {},
   "outputs": [
    {
     "name": "stdout",
     "output_type": "stream",
     "text": [
      "X\n"
     ]
    }
   ],
   "source": [
    "def get_winner(board):\n",
    "    horizontal1=[x for x in board[0]]\n",
    "    horizontal2=[x for x in board[1]]\n",
    "    horizontal3=[x for x in board[2]]\n",
    "    vertical1=[x for x in zip(*board)][0]\n",
    "    vertical2=[x for x in zip(*board)][1]\n",
    "    vertical3=[x for x in zip(*board)][2]\n",
    "    diagonal1=[board[i][i] for i,v in enumerate(board)]\n",
    "    diagonal2=[board[i][2-i] for i,v in enumerate(board)]\n",
    "    list_of_combos=[horizontal1,horizontal2,horizontal3,vertical1,vertical2,vertical3,diagonal1,diagonal2]\n",
    "    for combo in list_of_combos:\n",
    "        if len(set(combo))==1 and len(combo)==3:\n",
    "            winner=combo[0]\n",
    "            print(winner)\n",
    "get_winner(board1)"
   ]
  },
  {
   "cell_type": "markdown",
   "metadata": {},
   "source": [
    "# Problem 3"
   ]
  },
  {
   "cell_type": "code",
   "execution_count": 4,
   "metadata": {},
   "outputs": [],
   "source": [
    "locations = {\n",
    "    \"admu\":{\n",
    "        \"name\":\"Ateneo de Manila University\",\n",
    "        \"latitude\":14.6394557,\n",
    "        \"longitude\":121.0758975        \n",
    "    },\n",
    "    \"upd\":{\n",
    "        \"name\":\"University of the Philippines-Diliman Campus\",\n",
    "        \"latitude\":14.6538519,\n",
    "        \"longitude\":121.0663348\n",
    "    },\n",
    "    \"dlsu\":{\n",
    "        \"name\":\"De La Salle University-Taft\",\n",
    "        \"latitude\":14.5647346,\n",
    "        \"longitude\":120.9909876\n",
    "\n",
    "    }, # <-- Note that Python does not complain about this extra comma. This is perfectly okay.\n",
    "       #     The creators of Python saw that dictionaries tend to be changed a lot, so allowing this is a\n",
    "       #     convenience for developers who need to add elements when needed.\n",
    "}\n",
    "\n",
    "legs = {\n",
    "     (\"upd\",\"admu\"):{\n",
    "         \"travel_time_mins\":10\n",
    "     },\n",
    "     (\"admu\",\"dlsu\"):{\n",
    "         \"travel_time_mins\":35\n",
    "     },\n",
    "     (\"dlsu\",\"upd\"):{\n",
    "         \"travel_time_mins\":55\n",
    "     }\n",
    "}\n",
    "\n",
    "def eta(source,destination):\n",
    "    pass\n",
    "    # write your code here\n",
    "    def eta(source,destination):\n",
    "        if (source,destination) in legs:\n",
    "            total_time=legs[(source,destination)][\"travel_time_mins\"]\n",
    "            return total_time\n",
    "        else:\n",
    "            total_time=0\n",
    "            for route1 in legs:\n",
    "                if route1[0]==source:\n",
    "                    total_time+=legs[route1][\"travel_time_mins\"]\n",
    "            for route2 in legs:\n",
    "                if route2[1]==destination:\n",
    "                    total_time+=legs[route2][\"travel_time_mins\"]\n",
    "            return total_time"
   ]
  },
  {
   "cell_type": "code",
   "execution_count": 7,
   "metadata": {},
   "outputs": [
    {
     "data": {
      "text/plain": [
       "65"
      ]
     },
     "execution_count": 7,
     "metadata": {},
     "output_type": "execute_result"
    }
   ],
   "source": [
    "def eta(source,destination):\n",
    "    if (source,destination) in legs:\n",
    "        total_time=legs[(source,destination)][\"travel_time_mins\"]\n",
    "        return total_time\n",
    "    else:\n",
    "        total_time=0\n",
    "        for route1 in legs:\n",
    "            if route1[0]==source:\n",
    "                total_time+=legs[route1][\"travel_time_mins\"]\n",
    "        for route2 in legs:\n",
    "            if route2[1]==destination:\n",
    "                total_time+=legs[route2][\"travel_time_mins\"]\n",
    "        return total_time\n",
    "    \n",
    "eta('dlsu','admu')"
   ]
  },
  {
   "cell_type": "code",
   "execution_count": null,
   "metadata": {},
   "outputs": [],
   "source": []
  }
 ],
 "metadata": {
  "kernelspec": {
   "display_name": "Python 3",
   "language": "python",
   "name": "python3"
  },
  "language_info": {
   "codemirror_mode": {
    "name": "ipython",
    "version": 3
   },
   "file_extension": ".py",
   "mimetype": "text/x-python",
   "name": "python",
   "nbconvert_exporter": "python",
   "pygments_lexer": "ipython3",
   "version": "3.7.6"
  }
 },
 "nbformat": 4,
 "nbformat_minor": 4
}
