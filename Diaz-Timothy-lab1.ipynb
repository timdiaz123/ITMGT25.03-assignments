{
 "cells": [
  {
   "cell_type": "markdown",
   "metadata": {},
   "source": [
    "191688\n",
    "\n",
    "Diaz\n",
    "\n",
    "2 BS ME"
   ]
  },
  {
   "cell_type": "markdown",
   "metadata": {},
   "source": [
    "# Problem 1"
   ]
  },
  {
   "cell_type": "code",
   "execution_count": 1,
   "metadata": {},
   "outputs": [],
   "source": [
    "def dollars_to_pesos(dollars):\n",
    "    return dollars*50"
   ]
  },
  {
   "cell_type": "code",
   "execution_count": 3,
   "metadata": {},
   "outputs": [
    {
     "name": "stdout",
     "output_type": "stream",
     "text": [
      "Enter the amount in US Dollars: 20\n",
      "20.0 US dollar(s) = 1000.0 Philippine Pesos\n"
     ]
    }
   ],
   "source": [
    "dollars=float(input('Enter the amount in US Dollars: '))\n",
    "pesos=dollars_to_pesos(dollars)\n",
    "print(dollars,'US dollar(s) =',pesos,'Philippine Pesos')"
   ]
  },
  {
   "cell_type": "markdown",
   "metadata": {},
   "source": [
    "# Problem 2"
   ]
  },
  {
   "cell_type": "code",
   "execution_count": 5,
   "metadata": {},
   "outputs": [
    {
     "name": "stdout",
     "output_type": "stream",
     "text": [
      "128\n",
      "8\n",
      "136\n",
      "120\n",
      "1024\n",
      "16\n",
      "0\n"
     ]
    }
   ],
   "source": [
    "a=int(input())\n",
    "b=int(input())\n",
    "print(a+b)\n",
    "print(a-b)\n",
    "print(a*b)\n",
    "print(a//b)\n",
    "print(a%b)"
   ]
  },
  {
   "cell_type": "markdown",
   "metadata": {},
   "source": [
    "# Problem 3"
   ]
  },
  {
   "cell_type": "code",
   "execution_count": 6,
   "metadata": {},
   "outputs": [],
   "source": [
    "def compute_bmi(kg,m):\n",
    "    return (kg)/(m**2)\n",
    "\n",
    "def convert_cm_to_m(cm):\n",
    "    return cm/100"
   ]
  },
  {
   "cell_type": "code",
   "execution_count": 10,
   "metadata": {},
   "outputs": [
    {
     "name": "stdout",
     "output_type": "stream",
     "text": [
      "Enter kg: 70\n",
      "Enter cm: 170\n",
      "BMI: 24.221453287197235\n"
     ]
    }
   ],
   "source": [
    "kg=float(input('Enter kg: '))\n",
    "cm=float(input('Enter cm: '))\n",
    "m=convert_cm_to_m(cm)\n",
    "bmi=compute_bmi(kg,m)\n",
    "print('BMI:',bmi)"
   ]
  },
  {
   "cell_type": "code",
   "execution_count": null,
   "metadata": {},
   "outputs": [],
   "source": []
  }
 ],
 "metadata": {
  "kernelspec": {
   "display_name": "Python 3",
   "language": "python",
   "name": "python3"
  },
  "language_info": {
   "codemirror_mode": {
    "name": "ipython",
    "version": 3
   },
   "file_extension": ".py",
   "mimetype": "text/x-python",
   "name": "python",
   "nbconvert_exporter": "python",
   "pygments_lexer": "ipython3",
   "version": "3.7.6"
  }
 },
 "nbformat": 4,
 "nbformat_minor": 4
}
