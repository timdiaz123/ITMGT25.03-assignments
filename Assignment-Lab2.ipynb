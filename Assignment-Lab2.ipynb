{
 "cells": [
  {
   "cell_type": "markdown",
   "metadata": {},
   "source": [
    "# Quiz 1\n",
    "# Name: "
   ]
  },
  {
   "cell_type": "markdown",
   "metadata": {},
   "source": [
    "# 1A\n",
    "# Rectangle\n",
    "## 2 points\n",
    "\n",
    "(int, int) -> None\n",
    "    \n",
    "This function prints a solid rectangle composed of asterisks (\\\"\\*\\\").  \n",
    "This rectangle should be of the specified width and the specified height.  \n",
    "This function does not return any value; it simply prints the rectangle string.  "
   ]
  },
  {
   "cell_type": "code",
   "execution_count": 1,
   "metadata": {},
   "outputs": [
    {
     "name": "stdout",
     "output_type": "stream",
     "text": [
      "*****\n",
      "*****\n",
      "*****\n",
      "*****\n",
      "*****\n",
      "\n"
     ]
    }
   ],
   "source": [
    "# GRADED FUNCTION\n",
    "def print_rectangle(width, height):\n",
    "    '''\n",
    "    (int, int) -> None\n",
    "    \n",
    "    This function prints a solid rectangle composed of asterisks (\"*\").\n",
    "    This rectangle should be of the specified width and the specified height.\n",
    "    This function does not return any value; it simply prints the rectangle string.\n",
    "    '''\n",
    "    \n",
    "    rectangle_string = \"\"\n",
    "    \n",
    "    # Write your code below\n",
    "    def print_rectangle(width,height):\n",
    "    i=0\n",
    "    while i<height:\n",
    "        j=0\n",
    "        while j<width:\n",
    "            print('*',end='')\n",
    "            j+=1\n",
    "        print()\n",
    "        i+=1\n",
    "    # End of code\n",
    "    \n",
    "    print(rectangle_string)"
   ]
  },
  {
   "cell_type": "code",
   "execution_count": 1,
   "metadata": {},
   "outputs": [],
   "source": [
    "def print_rectangle(width,height):\n",
    "    i=0\n",
    "    while i<height:\n",
    "        j=0\n",
    "        while j<width:\n",
    "            print('*',end='')\n",
    "            j+=1\n",
    "        print()\n",
    "        i+=1"
   ]
  },
  {
   "cell_type": "code",
   "execution_count": 2,
   "metadata": {},
   "outputs": [
    {
     "name": "stdout",
     "output_type": "stream",
     "text": [
      "******\n",
      "******\n",
      "******\n",
      "******\n",
      "******\n",
      "******\n"
     ]
    }
   ],
   "source": [
    "print_rectangle(6,6)"
   ]
  },
  {
   "cell_type": "markdown",
   "metadata": {},
   "source": [
    "# 1B\n",
    "# Hollow Rectangle\n",
    "## 3 points\n",
    "\n",
    "(int, int) -> None\n",
    "    \n",
    "This function prints a hollow rectangle composed of asterisks \\(\\*).  \n",
    "The borders of this rectangle are composed of asterisks (\\\"\\*\\\").  \n",
    "The insides of this rectangle are composed of spaces (\" \").  \n",
    "This rectangle should be of the specified width and the specified height.  \n",
    "This function does not return any value; it simply prints the rectangle string.  "
   ]
  },
  {
   "cell_type": "code",
   "execution_count": null,
   "metadata": {},
   "outputs": [],
   "source": [
    "# GRADED FUNCTION\n",
    "def print_hollow_rectangle(width, height):\n",
    "    '''\n",
    "    (int, int) -> None\n",
    "    \n",
    "    This function prints a hollow rectangle composed of asterisks (*).\n",
    "    The borders of this rectangle are composed of asterisks (\"*\").\n",
    "    The insides of this rectangle are composed of spaces (\" \").\n",
    "    This rectangle should be of the specified width and the specified height.\n",
    "    This function does not return any value; it simply prints the rectangle string.\n",
    "    '''\n",
    "    \n",
    "    rectangle_string = \"\"\n",
    "    \n",
    "    # Write your code below\n",
    "    def print_hollow_rectangle(width,height):\n",
    "    i=0\n",
    "    while i<height:\n",
    "        if i==0:\n",
    "            j=0\n",
    "            while j<width:\n",
    "                print('*',end='')\n",
    "                j+=1\n",
    "            print()\n",
    "        elif i==(height-1):\n",
    "            j=0\n",
    "            while j<width:\n",
    "                print('*',end='')\n",
    "                j+=1\n",
    "        else:\n",
    "            j=0\n",
    "            while j<width:\n",
    "                if j==0:\n",
    "                    print('*',end='')\n",
    "                elif j==(width-1):\n",
    "                    print('*')\n",
    "                else:\n",
    "                    print(' ',end='')\n",
    "                j+=1       \n",
    "        i+=1\n",
    "    \n",
    "    # End of code\n",
    "    \n",
    "    print(rectangle_string)"
   ]
  },
  {
   "cell_type": "code",
   "execution_count": 3,
   "metadata": {},
   "outputs": [],
   "source": [
    "def print_hollow_rectangle(width,height):\n",
    "    i=0\n",
    "    while i<height:\n",
    "        if i==0:\n",
    "            j=0\n",
    "            while j<width:\n",
    "                print('*',end='')\n",
    "                j+=1\n",
    "            print()\n",
    "        elif i==(height-1):\n",
    "            j=0\n",
    "            while j<width:\n",
    "                print('*',end='')\n",
    "                j+=1\n",
    "        else:\n",
    "            j=0\n",
    "            while j<width:\n",
    "                if j==0:\n",
    "                    print('*',end='')\n",
    "                elif j==(width-1):\n",
    "                    print('*')\n",
    "                else:\n",
    "                    print(' ',end='')\n",
    "                j+=1       \n",
    "        i+=1"
   ]
  },
  {
   "cell_type": "code",
   "execution_count": 4,
   "metadata": {},
   "outputs": [
    {
     "name": "stdout",
     "output_type": "stream",
     "text": [
      "*****\n",
      "*   *\n",
      "*   *\n",
      "*   *\n",
      "*   *\n",
      "*****"
     ]
    }
   ],
   "source": [
    "print_hollow_rectangle(5,6)"
   ]
  },
  {
   "cell_type": "markdown",
   "metadata": {},
   "source": [
    "# 2\n",
    "# Caesar Cipher\n",
    "## 4 points\n",
    "(str, int) -> str\n",
    "    \n",
    "This function encrypts a message using the Caesar cipher method.  \n",
    "The Caesar cipher \"shifts\" each letter in a message to the right by a specified number.\n",
    "\n",
    "For example:\n",
    "\n",
    "encrypt('ABC', 2) -> 'CDE'\n",
    "\n",
    "In terms of ordinal positions in the alphabet, 'A' is 0, 'B' is 1, and 'C' is 2.  \n",
    "Add the specified number to each of these values to receive 0 + 2 = 2, 2 + 2 = 4, and 3 + 2 = 5.  \n",
    "Converting back to letters from numbers: 2 is 'C', 3 is 'D', and 4 is 'E'.\n",
    "\n",
    "Another example:\n",
    "\n",
    "encrypt('XYZ', 2) -> 'ZAB'\n",
    "\n",
    "In terms of ordinal positions in the alphabet, 'X' is 23, 'Y' is 24, and 'Z' is 25.  \n",
    "Add the specified number to each to receive 25, 26, and 27 respectively.  \n",
    "26 and 27 no longer fall in the range of alphabet numbers, so we need to \"wrap\" them around.  \n",
    "  Subtract 26 from 26 and 27 to receive 0 and 1.\n",
    "The final list of numbers is 25, 0, and 1.  \n",
    "Converting back to letters from numbers: 25 is 'Z', 0 is 'A', and 1 is 'B'.  \n",
    "\n",
    "You may find these functions helpful:  \n",
    "chr() converts a Unicode integer value to a character (i.e. a letter).  \n",
    "  e.g. chr(65) -> 'A'  \n",
    "ord() converts a character (i.e. a letter) to its Unicode integer value.  \n",
    "  e.g. ord('A') -> 65\n",
    "\n",
    "For your convenience:\n",
    "1. The message is composed entirely of capital letters. There will be no spaces or lower case letters.\n",
    "2. The shift number will be between 0 and 25.\n",
    "3. The alphabet is mapped such that A is 0 and Z is 25."
   ]
  },
  {
   "cell_type": "code",
   "execution_count": 7,
   "metadata": {},
   "outputs": [],
   "source": [
    "# GRADED FUNCTION\n",
    "def caesar_encrypt(message, shift):\n",
    "    '''\n",
    "    (str, int) -> str\n",
    "    \n",
    "    This function encrypts a message using the Caesar cipher method.\n",
    "    The Caesar cipher \"shifts\" each letter in a message to the right by a specified number.\n",
    "    \n",
    "    For example:\n",
    "    \n",
    "    encrypt('ABC', 2) -> 'CDE'\n",
    "    \n",
    "    In terms of ordinal positions in the alphabet, 'A' is 0, 'B' is 1, and 'C' is 2.\n",
    "    Add the specified number to each of these values to receive 0 + 2 = 2, 2 + 2 = 4, and 3 + 2 = 5.\n",
    "    Converting back to letters from numbers: 2 is 'C', 3 is 'D', and 4 is 'E'.\n",
    "    \n",
    "    Another example:\n",
    "    \n",
    "    encrypt('XYZ', 2) -> 'ZAB'\n",
    "    \n",
    "    In terms of ordinal positions in the alphabet, 'X' is 23, 'Y' is 24, and 'Z' is 25.\n",
    "    Add the specified number to each to receive 25, 26, and 27 respectively.\n",
    "    26 and 27 no longer fall in the range of alphabet numbers, so we need to \"wrap\" them around.\n",
    "      Subtract 26 from 26 and 27 to receive 0 and 1.\n",
    "    The final list of numbers is 25, 0, and 1.\n",
    "    Converting back to letters from numbers: 25 is 'Z', 0 is 'A', and 1 is 'B'.\n",
    "    \n",
    "    You may find these functions helpful:\n",
    "    chr() converts a Unicode integer value to a character (i.e. a letter).\n",
    "      e.g. chr(65) -> 'A'\n",
    "    ord() converts a character (i.e. a letter) to its Unicode integer value.\n",
    "      e.g. ord('A') -> 65\n",
    "      \n",
    "    For your convenience:\n",
    "    1. The message is composed entirely of capital letters. There will be no spaces or lower case letters.\n",
    "    2. The shift number will be between 0 and 25.\n",
    "    3. The alphabet is mapped such that A is 0 and Z is 25.\n",
    "    '''\n",
    "    \n",
    "    output = ''\n",
    "    \n",
    "    # Write your code below\n",
    "    def caesar_encrypt(message,shift):\n",
    "    alphabet='ABCDEFGHIJKLMNOPQRSTUVWXYZ'\n",
    "    encrypted_message=''\n",
    "    for char in message:\n",
    "        shifted_char=ord(char)-65+shift # 65 because ord('A')=65, so 65-65 would be 0, causing A to be mapped to 0\n",
    "        if shifted_char>25:\n",
    "            new_char=alphabet[shifted_char-26]\n",
    "        else:    \n",
    "            new_char=alphabet[shifted_char]\n",
    "        encrypted_message+=new_char\n",
    "    return encrypted_message   \n",
    "    # End of code\n",
    "    \n",
    "    return output"
   ]
  },
  {
   "cell_type": "code",
   "execution_count": 5,
   "metadata": {},
   "outputs": [],
   "source": [
    "def caesar_encrypt(message,shift):\n",
    "    alphabet='ABCDEFGHIJKLMNOPQRSTUVWXYZ'\n",
    "    encrypted_message=''\n",
    "    for char in message:\n",
    "        shifted_char=ord(char)-65+shift \n",
    "        if shifted_char>25:\n",
    "            new_char=alphabet[shifted_char-26]\n",
    "        else:    \n",
    "            new_char=alphabet[shifted_char]\n",
    "        encrypted_message+=new_char\n",
    "    return encrypted_message   "
   ]
  },
  {
   "cell_type": "code",
   "execution_count": 6,
   "metadata": {},
   "outputs": [
    {
     "data": {
      "text/plain": [
       "'ECD'"
      ]
     },
     "execution_count": 6,
     "metadata": {},
     "output_type": "execute_result"
    }
   ],
   "source": [
    "caesar_encrypt('AYZ',4)"
   ]
  },
  {
   "cell_type": "markdown",
   "metadata": {},
   "source": [
    "# 3\n",
    "# Vigenere Cipher\n",
    "## 4 points\n",
    "\n",
    "(str, str) -> str\n",
    "    \n",
    "This function encrypts a message using the Vigenere cipher method.\n",
    "\n",
    "The Vigenere cipher is an extension of the Caesar cipher method.\n",
    "Instead of using a uniform number, the Vigenere cipher uses a keyword to shift letters.\n",
    "\n",
    "Example:\n",
    "\n",
    "vigenere_encrypt('ABC', 'KEY') -> 'KFA'\n",
    "\n",
    "First, convert the message and the key to numbers.  \n",
    "'ABC' -> [0, 1, 2]  \n",
    "'KEY' -> [10, 4, 24]  \n",
    "Second, add the respective numbers to each other.  \n",
    "[0, 1, 2] + [10, 4, 24] = [10, 5, 26]  \n",
    "Third, correct the numbers that do not fall within 0-25 by subtracting 26 until they fall within 0-25.  \n",
    "[10, 5, 26] -> [10, 5, 0]  \n",
    "Fourth, convert the numbers back to letters.  \n",
    "[10, 5, 0] -> 'KFA'  \n",
    "\n",
    "For your convenience:\n",
    "1. You are highly encouraged to use your Caesar cipher function from Item 2 in this item.\n",
    "2. You may assume that the key is the same length as the message.\n",
    "\n",
    "Bonus points:\n",
    "1. +2 (with a perfect base function) (all or nothing) if you adjust for the case that the key is \n",
    "  shorter than the message. (e.g. \"MEAMORE\", \"UEDA\" -> \"MEAMORE\", \"UEDAUED\")"
   ]
  },
  {
   "cell_type": "code",
   "execution_count": null,
   "metadata": {},
   "outputs": [],
   "source": [
    "# GRADED FUNCTION\n",
    "def vigenere_encrypt(message, keyword):\n",
    "    '''\n",
    "    (str, str) -> str\n",
    "    \n",
    "    This function encrypts a message using the Vigenere cipher method.\n",
    "    \n",
    "    The Vigenere cipher is an extension of the Caesar cipher method.\n",
    "    Instead of using a uniform number, the Vigenere cipher uses a keyword to shift letters.\n",
    "    \n",
    "    Example:\n",
    "    \n",
    "    vigenere_encrypt('ABC', 'KEY') -> 'KFA'\n",
    "    \n",
    "    First, convert the message and the key to numbers.\n",
    "    'ABC' -> [0, 1, 2]\n",
    "    'KEY' -> [10, 4, 24]\n",
    "    Second, add the respective numbers to each other.\n",
    "    [0, 1, 2] + [10, 4, 24] = [10, 5, 26]\n",
    "    Third, correct the numbers that do not fall within 0-25 by subtracting 26.\n",
    "    [10, 5, 26] -> [10, 5, 0]\n",
    "    Fourth, convert the numbers back to letters.\n",
    "    [10, 5, 0] -> 'KFA'\n",
    "    \n",
    "    For your convenience:\n",
    "    1. You are highly encouraged to use your Caesar cipher function from Item 2 in this item.\n",
    "    2. You may assume that the key is the same length as the message.\n",
    "    \n",
    "    Bonus points:\n",
    "    1. +2 (with a perfect base function) (all or nothing) if you adjust for the case that the key is \n",
    "      shorter than the message. (e.g. \"MEAMORE\", \"UEDA\" -> \"MEAMORE\", \"UEDAUED\")\n",
    "    '''\n",
    "    \n",
    "    output = ''\n",
    "    \n",
    "    # Write your code below\n",
    "    def vigenere_encrypt(message,keyword):\n",
    "    alphabet='ABCDEFGHIJKLMNOPQRSTUVWXYZ'\n",
    "    encrypted_message=''\n",
    "    i=0\n",
    "    for char in message:\n",
    "        shifted_char=(ord(char)-65+ord(keyword[i])-65)\n",
    "        if shifted_char>25:\n",
    "            new_char=alphabet[shifted_char-26]\n",
    "        else:    \n",
    "            new_char=alphabet[shifted_char]\n",
    "        encrypted_message+=new_char\n",
    "        i+=1\n",
    "    return encrypted_message\n",
    "    # End of code\n",
    "    \n",
    "    return output"
   ]
  },
  {
   "cell_type": "code",
   "execution_count": 20,
   "metadata": {},
   "outputs": [],
   "source": [
    "def vigenere_encrypt(message,keyword):\n",
    "    alphabet='ABCDEFGHIJKLMNOPQRSTUVWXYZ'\n",
    "    encrypted_message=''\n",
    "    i=0\n",
    "    for char in message:\n",
    "        shifted_char=(ord(char)-65+ord(keyword[i])-65)\n",
    "        if shifted_char>25:\n",
    "            new_char=alphabet[shifted_char-26]\n",
    "        else:    \n",
    "            new_char=alphabet[shifted_char]\n",
    "        encrypted_message+=new_char\n",
    "        i+=1\n",
    "    return encrypted_message"
   ]
  },
  {
   "cell_type": "code",
   "execution_count": 21,
   "metadata": {},
   "outputs": [
    {
     "data": {
      "text/plain": [
       "'KFA'"
      ]
     },
     "execution_count": 21,
     "metadata": {},
     "output_type": "execute_result"
    }
   ],
   "source": [
    "vigenere_encrypt('ABC','KEY')"
   ]
  },
  {
   "cell_type": "markdown",
   "metadata": {},
   "source": [
    "# 4\n",
    "# Contact Tracing\n",
    "## 7 points\n",
    "\n",
    "This function simulates tracing an infected person and marking people they come into contact with.  \n",
    "\n",
    "### Rules of the Game\n",
    "1. The simulation starts with a single infected person (infected_person).  \n",
    "2. The people in this game \"move\". These movements are represented by strings.\n",
    "3. Each person that an infected person comes into contact with will become infected in the next round.\n",
    "\n",
    "\n",
    "### Conceptual demonstration\n",
    "Initial infected = C  \n",
    "\n",
    "Movements:  \n",
    "'JFHGIABECD'  \n",
    "'GAFJBCDIHE'  \n",
    "'FCGAEBIJDH'  \n",
    "\n",
    "\n",
    "1. In the first round, C is next to E and D. E and D will thus be infected next round.\n",
    "2. In the second round:  \n",
    "    The list of infected: CDE   \n",
    "    C is adjacent to B and D  \n",
    "    D is adjacent to C and I  \n",
    "    E is adjacent to H  \n",
    "    B, I, and H will thus be new infected next round.\n",
    "3. In the third round:  \n",
    "    The list of infected: CDEBIH  \n",
    "    C is adjacent to F and G  \n",
    "    D is adjacent to J and H  \n",
    "    E is adjacent to A and B  \n",
    "    B is adjacent to E and I  \n",
    "    I is adjacent to B and J  \n",
    "    H is adjacent to D  \n",
    "    F, G, J, and A will thus be new infected next round, but there is no next round, so the list of infected for the next round will count as our \"final\" list of infected.\n",
    "4. The final list of infected: CDEBIHFGJA. This is basically every single element. Note that in Python, the final list of infected will look like this:  \n",
    "['C', 'D', 'E', 'B', 'I', 'H', 'F', 'G', 'J', 'A']\n",
    "    \n",
    "### Required\n",
    "Write a function that takes an initial infected person as its first parameter and a list of movements as its second parameter. The function should **return** the final list of infected.  \n",
    "\n",
    "Please note the following:\n",
    "1. Your solution must work for an arbitrary number of movements of an arbitrary number of elements. This means that your code must still work if we change the initial infected person or the movement list.\n",
    "2. There will be no duplicate elements.\n",
    "3. There will only ever be one initial infected person.\n",
    "4. Please **comment** your code. It will help us understand your logic, and it will help you get partial points on this item.\n"
   ]
  },
  {
   "cell_type": "code",
   "execution_count": null,
   "metadata": {},
   "outputs": [],
   "source": [
    "# SETUP. DO NOT EDIT THESE LINES.\n",
    "sample_initial_infected_person = 'C'\n",
    "sample_movement_list = ['LMcSEDJfZAqbWRUgYeurIdtzKoihOxBmkQjFlpvNwXyPnCasGHVT',\n",
    "                         'ihpSPvorENDadfcyjnqlmgHWxTCKGIUkeOZzMJXYsuAwVbLRQBFt',\n",
    "                         'qepTuMENGwDztARCImQhiJXfnWbcaVvyrLsZjdYKSFBHPoxglOkU']\n",
    "# END OF SETUP.\n",
    "\n",
    "# GRADED FUNCTION\n",
    "def trace(initial_infected_person, movement_list):\n",
    "    '''\n",
    "    (str, [str]) -> [str]\n",
    "    \n",
    "    This function simulates tracing an infected person and marking people they come into contact with.\n",
    "    \n",
    "    '''\n",
    "    \n",
    "    final_list_of_infected = []\n",
    "    \n",
    "    # Write your code below\n",
    "    def contact_tracing(initial,list_of_movements): \n",
    "        list_of_infected=initial\n",
    "        for string in list_of_movements:\n",
    "            for letter in list_of_infected:\n",
    "                for letter2 in string:\n",
    "                    if (string.index(letter2)-string.index(letter)==1 or string.index(letter2)-string.index(letter)==-1) and letter2 not in list_of_infected:\n",
    "                        list_of_infected+=letter2\n",
    "        # What I did here was that, for every letter in every string in the list of movements, it would compare the \n",
    "        # position of that letter (using .index()) to the position of the letters in the list of infected and if the difference\n",
    "        # in position is 1, they are infected and are then added to the list of infected. Since list_of_infected is a string,\n",
    "        # I convert it to a list with the name final_list_of_infected and then I return that value.\n",
    "        final_list_of_infected=list(list_of_infected)\n",
    "        return final_list_of_infected\n",
    "\n",
    "    # End of code\n",
    "    \n",
    "    return final_list_of_infected"
   ]
  },
  {
   "cell_type": "code",
   "execution_count": 4,
   "metadata": {},
   "outputs": [
    {
     "data": {
      "text/plain": [
       "['C', 'E', 'D', 'B', 'H', 'I', 'F', 'G', 'A', 'J']"
      ]
     },
     "execution_count": 4,
     "metadata": {},
     "output_type": "execute_result"
    }
   ],
   "source": [
    "def contact_tracing(initial,list_of_movements):\n",
    "    list_of_infected=initial\n",
    "    for string in list_of_movements:\n",
    "        for letter in list_of_infected:\n",
    "            for letter2 in string:\n",
    "                if (string.index(letter2)-string.index(letter)==1 or string.index(letter2)-string.index(letter)==-1) and letter2 not in list_of_infected:\n",
    "                    list_of_infected+=letter2\n",
    "    final_list_of_infected=list(list_of_infected)\n",
    "    return final_list_of_infected\n",
    "contact_tracing('C',['JFHGIABECD','GAFJBCDIHE','FCGAEBIJDH'])"
   ]
  },
  {
   "cell_type": "code",
   "execution_count": null,
   "metadata": {},
   "outputs": [],
   "source": []
  }
 ],
 "metadata": {
  "kernelspec": {
   "display_name": "Python 3",
   "language": "python",
   "name": "python3"
  },
  "language_info": {
   "codemirror_mode": {
    "name": "ipython",
    "version": 3
   },
   "file_extension": ".py",
   "mimetype": "text/x-python",
   "name": "python",
   "nbconvert_exporter": "python",
   "pygments_lexer": "ipython3",
   "version": "3.7.6"
  }
 },
 "nbformat": 4,
 "nbformat_minor": 4
}
