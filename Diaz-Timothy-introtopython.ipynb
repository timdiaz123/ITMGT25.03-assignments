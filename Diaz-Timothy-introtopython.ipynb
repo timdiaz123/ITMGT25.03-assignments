{
 "cells": [
  {
   "cell_type": "markdown",
   "metadata": {},
   "source": [
    "191688\n",
    "\n",
    "Diaz\n",
    "\n",
    "2 BS ME"
   ]
  },
  {
   "cell_type": "code",
   "execution_count": 2,
   "metadata": {},
   "outputs": [],
   "source": [
    "def three_number_average(first_no,second_no,third_no):\n",
    "    return (first_no+second_no+third_no)/3"
   ]
  },
  {
   "cell_type": "code",
   "execution_count": 3,
   "metadata": {},
   "outputs": [
    {
     "name": "stdout",
     "output_type": "stream",
     "text": [
      "Enter first number: 1\n",
      "Enter second number: 2\n",
      "Enter third number: 3\n",
      "The average is 2.0\n"
     ]
    }
   ],
   "source": [
    "first_no=int(input('Enter first number: '))\n",
    "second_no=int(input('Enter second number: '))\n",
    "third_no=int(input('Enter third number: '))\n",
    "average=three_number_average(first_no,second_no,third_no)\n",
    "print('The average is',average)"
   ]
  },
  {
   "cell_type": "code",
   "execution_count": 4,
   "metadata": {},
   "outputs": [
    {
     "name": "stdout",
     "output_type": "stream",
     "text": [
      "Enter first number: 1\n",
      "Enter second number: 1\n",
      "Enter third number: 1\n",
      "The average is 1.0\n"
     ]
    }
   ],
   "source": [
    "first_no=int(input('Enter first number: '))\n",
    "second_no=int(input('Enter second number: '))\n",
    "third_no=int(input('Enter third number: '))\n",
    "average=three_number_average(first_no,second_no,third_no)\n",
    "print('The average is',average)"
   ]
  },
  {
   "cell_type": "code",
   "execution_count": 5,
   "metadata": {},
   "outputs": [
    {
     "name": "stdout",
     "output_type": "stream",
     "text": [
      "Enter first number: 2\n",
      "Enter second number: 4\n",
      "Enter third number: 6\n",
      "The average is 4.0\n"
     ]
    }
   ],
   "source": [
    "first_no=int(input('Enter first number: '))\n",
    "second_no=int(input('Enter second number: '))\n",
    "third_no=int(input('Enter third number: '))\n",
    "average=three_number_average(first_no,second_no,third_no)\n",
    "print('The average is',average)"
   ]
  },
  {
   "cell_type": "code",
   "execution_count": null,
   "metadata": {},
   "outputs": [],
   "source": []
  }
 ],
 "metadata": {
  "kernelspec": {
   "display_name": "Python 3",
   "language": "python",
   "name": "python3"
  },
  "language_info": {
   "codemirror_mode": {
    "name": "ipython",
    "version": 3
   },
   "file_extension": ".py",
   "mimetype": "text/x-python",
   "name": "python",
   "nbconvert_exporter": "python",
   "pygments_lexer": "ipython3",
   "version": "3.7.6"
  }
 },
 "nbformat": 4,
 "nbformat_minor": 4
}
